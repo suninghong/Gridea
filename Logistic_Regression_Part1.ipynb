{
  "nbformat": 4,
  "nbformat_minor": 0,
  "metadata": {
    "colab": {
      "provenance": [],
      "include_colab_link": true
    },
    "kernelspec": {
      "name": "ir",
      "display_name": "R"
    },
    "language_info": {
      "name": "R"
    }
  },
  "cells": [
    {
      "cell_type": "markdown",
      "metadata": {
        "id": "view-in-github",
        "colab_type": "text"
      },
      "source": [
        "<a href=\"https://colab.research.google.com/github/suninghong/Gridea.github.io/blob/master/Logistic_Regression_Part1.ipynb\" target=\"_parent\"><img src=\"https://colab.research.google.com/assets/colab-badge.svg\" alt=\"Open In Colab\"/></a>"
      ]
    },
    {
      "source": [
        "library(dplyr)\n",
        "library(ggplot2)\n",
        "\n",
        "mydata <- read.csv('https://academics.hamilton.edu/mathematics/ckuruwit/Data/breastcancer2.csv',\n",
        "                    stringsAsFactors = TRUE)\n",
        "                    # use stringsAsFactors to properly read character variables into R"
      ],
      "cell_type": "code",
      "metadata": {
        "id": "zaPCU4oaqjLj",
        "outputId": "033614b9-5ac4-4ac3-d887-8de01c5577fa",
        "colab": {
          "base_uri": "https://localhost:8080/"
        }
      },
      "execution_count": 1,
      "outputs": [
        {
          "output_type": "stream",
          "name": "stderr",
          "text": [
            "\n",
            "Attaching package: ‘dplyr’\n",
            "\n",
            "\n",
            "The following objects are masked from ‘package:stats’:\n",
            "\n",
            "    filter, lag\n",
            "\n",
            "\n",
            "The following objects are masked from ‘package:base’:\n",
            "\n",
            "    intersect, setdiff, setequal, union\n",
            "\n",
            "\n"
          ]
        }
      ]
    },
    {
      "cell_type": "markdown",
      "source": [
        "Here is the link if you'd like to read more about this dataset:\n",
        "\n",
        "---\n",
        "\n",
        "https://archive.ics.uci.edu/dataset/17/breast+cancer+wisconsin+diagnostic"
      ],
      "metadata": {
        "id": "AUllxveSYLTo"
      }
    },
    {
      "cell_type": "code",
      "source": [
        "names(mydata)\n",
        "head(mydata)"
      ],
      "metadata": {
        "colab": {
          "base_uri": "https://localhost:8080/",
          "height": 341
        },
        "id": "W9N6QbJ9WdSR",
        "outputId": "71636c3c-190f-415d-f85c-cf46f40c2f66"
      },
      "execution_count": null,
      "outputs": [
        {
          "output_type": "display_data",
          "data": {
            "text/html": [
              "<style>\n",
              ".list-inline {list-style: none; margin:0; padding: 0}\n",
              ".list-inline>li {display: inline-block}\n",
              ".list-inline>li:not(:last-child)::after {content: \"\\00b7\"; padding: 0 .5ex}\n",
              "</style>\n",
              "<ol class=list-inline><li>'status'</li><li>'radius'</li><li>'texture'</li><li>'perimeter'</li><li>'area'</li><li>'smoothness'</li><li>'compactness'</li><li>'concavity'</li><li>'concave.points'</li><li>'symmetry'</li><li>'fractal.dimension'</li></ol>\n"
            ],
            "text/markdown": "1. 'status'\n2. 'radius'\n3. 'texture'\n4. 'perimeter'\n5. 'area'\n6. 'smoothness'\n7. 'compactness'\n8. 'concavity'\n9. 'concave.points'\n10. 'symmetry'\n11. 'fractal.dimension'\n\n\n",
            "text/latex": "\\begin{enumerate*}\n\\item 'status'\n\\item 'radius'\n\\item 'texture'\n\\item 'perimeter'\n\\item 'area'\n\\item 'smoothness'\n\\item 'compactness'\n\\item 'concavity'\n\\item 'concave.points'\n\\item 'symmetry'\n\\item 'fractal.dimension'\n\\end{enumerate*}\n",
            "text/plain": [
              " [1] \"status\"            \"radius\"            \"texture\"          \n",
              " [4] \"perimeter\"         \"area\"              \"smoothness\"       \n",
              " [7] \"compactness\"       \"concavity\"         \"concave.points\"   \n",
              "[10] \"symmetry\"          \"fractal.dimension\""
            ]
          },
          "metadata": {}
        },
        {
          "output_type": "display_data",
          "data": {
            "text/html": [
              "<table class=\"dataframe\">\n",
              "<caption>A data.frame: 6 × 11</caption>\n",
              "<thead>\n",
              "\t<tr><th></th><th scope=col>status</th><th scope=col>radius</th><th scope=col>texture</th><th scope=col>perimeter</th><th scope=col>area</th><th scope=col>smoothness</th><th scope=col>compactness</th><th scope=col>concavity</th><th scope=col>concave.points</th><th scope=col>symmetry</th><th scope=col>fractal.dimension</th></tr>\n",
              "\t<tr><th></th><th scope=col>&lt;fct&gt;</th><th scope=col>&lt;dbl&gt;</th><th scope=col>&lt;dbl&gt;</th><th scope=col>&lt;dbl&gt;</th><th scope=col>&lt;dbl&gt;</th><th scope=col>&lt;dbl&gt;</th><th scope=col>&lt;dbl&gt;</th><th scope=col>&lt;dbl&gt;</th><th scope=col>&lt;dbl&gt;</th><th scope=col>&lt;dbl&gt;</th><th scope=col>&lt;dbl&gt;</th></tr>\n",
              "</thead>\n",
              "<tbody>\n",
              "\t<tr><th scope=row>1</th><td>M</td><td>17.99</td><td>10.38</td><td>122.80</td><td>1001.0</td><td>0.11840</td><td>0.27760</td><td>0.3001</td><td>0.14710</td><td>0.2419</td><td>0.07871</td></tr>\n",
              "\t<tr><th scope=row>2</th><td>M</td><td>20.57</td><td>17.77</td><td>132.90</td><td>1326.0</td><td>0.08474</td><td>0.07864</td><td>0.0869</td><td>0.07017</td><td>0.1812</td><td>0.05667</td></tr>\n",
              "\t<tr><th scope=row>3</th><td>M</td><td>19.69</td><td>21.25</td><td>130.00</td><td>1203.0</td><td>0.10960</td><td>0.15990</td><td>0.1974</td><td>0.12790</td><td>0.2069</td><td>0.05999</td></tr>\n",
              "\t<tr><th scope=row>4</th><td>M</td><td>11.42</td><td>20.38</td><td> 77.58</td><td> 386.1</td><td>0.14250</td><td>0.28390</td><td>0.2414</td><td>0.10520</td><td>0.2597</td><td>0.09744</td></tr>\n",
              "\t<tr><th scope=row>5</th><td>M</td><td>20.29</td><td>14.34</td><td>135.10</td><td>1297.0</td><td>0.10030</td><td>0.13280</td><td>0.1980</td><td>0.10430</td><td>0.1809</td><td>0.05883</td></tr>\n",
              "\t<tr><th scope=row>6</th><td>M</td><td>12.45</td><td>15.70</td><td> 82.57</td><td> 477.1</td><td>0.12780</td><td>0.17000</td><td>0.1578</td><td>0.08089</td><td>0.2087</td><td>0.07613</td></tr>\n",
              "</tbody>\n",
              "</table>\n"
            ],
            "text/markdown": "\nA data.frame: 6 × 11\n\n| <!--/--> | status &lt;fct&gt; | radius &lt;dbl&gt; | texture &lt;dbl&gt; | perimeter &lt;dbl&gt; | area &lt;dbl&gt; | smoothness &lt;dbl&gt; | compactness &lt;dbl&gt; | concavity &lt;dbl&gt; | concave.points &lt;dbl&gt; | symmetry &lt;dbl&gt; | fractal.dimension &lt;dbl&gt; |\n|---|---|---|---|---|---|---|---|---|---|---|---|\n| 1 | M | 17.99 | 10.38 | 122.80 | 1001.0 | 0.11840 | 0.27760 | 0.3001 | 0.14710 | 0.2419 | 0.07871 |\n| 2 | M | 20.57 | 17.77 | 132.90 | 1326.0 | 0.08474 | 0.07864 | 0.0869 | 0.07017 | 0.1812 | 0.05667 |\n| 3 | M | 19.69 | 21.25 | 130.00 | 1203.0 | 0.10960 | 0.15990 | 0.1974 | 0.12790 | 0.2069 | 0.05999 |\n| 4 | M | 11.42 | 20.38 |  77.58 |  386.1 | 0.14250 | 0.28390 | 0.2414 | 0.10520 | 0.2597 | 0.09744 |\n| 5 | M | 20.29 | 14.34 | 135.10 | 1297.0 | 0.10030 | 0.13280 | 0.1980 | 0.10430 | 0.1809 | 0.05883 |\n| 6 | M | 12.45 | 15.70 |  82.57 |  477.1 | 0.12780 | 0.17000 | 0.1578 | 0.08089 | 0.2087 | 0.07613 |\n\n",
            "text/latex": "A data.frame: 6 × 11\n\\begin{tabular}{r|lllllllllll}\n  & status & radius & texture & perimeter & area & smoothness & compactness & concavity & concave.points & symmetry & fractal.dimension\\\\\n  & <fct> & <dbl> & <dbl> & <dbl> & <dbl> & <dbl> & <dbl> & <dbl> & <dbl> & <dbl> & <dbl>\\\\\n\\hline\n\t1 & M & 17.99 & 10.38 & 122.80 & 1001.0 & 0.11840 & 0.27760 & 0.3001 & 0.14710 & 0.2419 & 0.07871\\\\\n\t2 & M & 20.57 & 17.77 & 132.90 & 1326.0 & 0.08474 & 0.07864 & 0.0869 & 0.07017 & 0.1812 & 0.05667\\\\\n\t3 & M & 19.69 & 21.25 & 130.00 & 1203.0 & 0.10960 & 0.15990 & 0.1974 & 0.12790 & 0.2069 & 0.05999\\\\\n\t4 & M & 11.42 & 20.38 &  77.58 &  386.1 & 0.14250 & 0.28390 & 0.2414 & 0.10520 & 0.2597 & 0.09744\\\\\n\t5 & M & 20.29 & 14.34 & 135.10 & 1297.0 & 0.10030 & 0.13280 & 0.1980 & 0.10430 & 0.1809 & 0.05883\\\\\n\t6 & M & 12.45 & 15.70 &  82.57 &  477.1 & 0.12780 & 0.17000 & 0.1578 & 0.08089 & 0.2087 & 0.07613\\\\\n\\end{tabular}\n",
            "text/plain": [
              "  status radius texture perimeter area   smoothness compactness concavity\n",
              "1 M      17.99  10.38   122.80    1001.0 0.11840    0.27760     0.3001   \n",
              "2 M      20.57  17.77   132.90    1326.0 0.08474    0.07864     0.0869   \n",
              "3 M      19.69  21.25   130.00    1203.0 0.10960    0.15990     0.1974   \n",
              "4 M      11.42  20.38    77.58     386.1 0.14250    0.28390     0.2414   \n",
              "5 M      20.29  14.34   135.10    1297.0 0.10030    0.13280     0.1980   \n",
              "6 M      12.45  15.70    82.57     477.1 0.12780    0.17000     0.1578   \n",
              "  concave.points symmetry fractal.dimension\n",
              "1 0.14710        0.2419   0.07871          \n",
              "2 0.07017        0.1812   0.05667          \n",
              "3 0.12790        0.2069   0.05999          \n",
              "4 0.10520        0.2597   0.09744          \n",
              "5 0.10430        0.1809   0.05883          \n",
              "6 0.08089        0.2087   0.07613          "
            ]
          },
          "metadata": {}
        }
      ]
    },
    {
      "cell_type": "code",
      "source": [
        "# Suppose we are interested in building a model with the\n",
        "# radius variabele.  Explore how this variable associated with malignancy\n",
        "\n",
        "mydata %>%\n",
        "ggplot() +\n",
        "  aes( x = radius, y = status, col = status) +\n",
        "  geom_jitter(height = 0.05, width = 0.01, alpha = 0.5)\n"
      ],
      "metadata": {
        "colab": {
          "base_uri": "https://localhost:8080/",
          "height": 437
        },
        "id": "S4PG7N01WqOS",
        "outputId": "13b4ffe2-67c5-4593-f4ec-40960a6d5b5e"
      },
      "execution_count": null,
      "outputs": [
        {
          "output_type": "display_data",
          "data": {
            "text/plain": [
              "plot without title"
            ],
            "image/png": "[encoded data removed]"
          },
          "metadata": {
            "image/png": {
              "width": 420,
              "height": 420
            }
          }
        }
      ]
    },
    {
      "cell_type": "markdown",
      "source": [
        "\n",
        "\n",
        "1.   Add the logistic regression curve onto the plot.\n",
        "2.   Find the equation of the fitted curve.\n",
        "3. **(Bonus)** Add the eqation of the fitted line into plot.  \n",
        "*Hint:* Use GPT for help :)\n",
        "\n"
      ],
      "metadata": {
        "id": "s_CHd7tqXRkt"
      }
    },
    {
      "cell_type": "code",
      "source": [
        "#Recode the status variable into 1's and 0's\n",
        "\n",
        "mydata$cancer_status <- recode(mydata$status, \"M\" =1, \"B\" = 0)\n",
        "\n",
        "table(mydata$status)\n",
        "table(mydata$cancer_status)"
      ],
      "metadata": {
        "id": "GoeCQVzIHIcs",
        "outputId": "cc76b626-d20a-49e6-f2f7-07e844b2d25f",
        "colab": {
          "base_uri": "https://localhost:8080/",
          "height": 124
        }
      },
      "execution_count": 3,
      "outputs": [
        {
          "output_type": "display_data",
          "data": {
            "text/plain": [
              "\n",
              "  B   M \n",
              "357 212 "
            ]
          },
          "metadata": {}
        },
        {
          "output_type": "display_data",
          "data": {
            "text/plain": [
              "\n",
              "  0   1 \n",
              "357 212 "
            ]
          },
          "metadata": {}
        }
      ]
    },
    {
      "cell_type": "code",
      "source": [
        "mydata %>%\n",
        "  ggplot()+\n",
        "  aes(x = radius, y= cancer_status)+\n",
        "  geom_jitter(aes(col_status), height = 0.05, width = 0.01, alpha = 0.5)+\n",
        "  geom_smooth(method = \"glm\", method.args = list(family =\"binomial\"), se = FALSE)\n"
      ],
      "metadata": {
        "id": "Aj09x2H5Hy__",
        "outputId": "fe2e59df-0e03-43f1-e491-ac7021e4a515",
        "colab": {
          "base_uri": "https://localhost:8080/"
        }
      },
      "execution_count": 5,
      "outputs": [
        {
          "output_type": "stream",
          "name": "stderr",
          "text": [
            "ERROR while rich displaying an object: \u001b[1m\u001b[33mError\u001b[39m in `geom_jitter()`:\u001b[22m\n",
            "\u001b[1m\u001b[22m\u001b[33m!\u001b[39m Problem while computing aesthetics.\n",
            "\u001b[36mℹ\u001b[39m Error occurred in the 1st layer.\n",
            "\u001b[1mCaused by error:\u001b[22m\n",
            "\u001b[33m!\u001b[39m object 'col_status' not found\n",
            "\n",
            "Traceback:\n",
            "1. sapply(x, f, simplify = simplify)\n",
            "2. lapply(X = X, FUN = FUN, ...)\n",
            "3. FUN(X[[i]], ...)\n",
            "4. tryCatch(withCallingHandlers({\n",
            " .     if (!mime %in% names(repr::mime2repr)) \n",
            " .         stop(\"No repr_* for mimetype \", mime, \" in repr::mime2repr\")\n",
            " .     rpr <- repr::mime2repr[[mime]](obj)\n",
            " .     if (is.null(rpr)) \n",
            " .         return(NULL)\n",
            " .     prepare_content(is.raw(rpr), rpr)\n",
            " . }, error = error_handler), error = outer_handler)\n",
            "5. tryCatchList(expr, classes, parentenv, handlers)\n",
            "6. tryCatchOne(expr, names, parentenv, handlers[[1L]])\n",
            "7. doTryCatch(return(expr), name, parentenv, handler)\n",
            "8. withCallingHandlers({\n",
            " .     if (!mime %in% names(repr::mime2repr)) \n",
            " .         stop(\"No repr_* for mimetype \", mime, \" in repr::mime2repr\")\n",
            " .     rpr <- repr::mime2repr[[mime]](obj)\n",
            " .     if (is.null(rpr)) \n",
            " .         return(NULL)\n",
            " .     prepare_content(is.raw(rpr), rpr)\n",
            " . }, error = error_handler)\n",
            "9. repr::mime2repr[[mime]](obj)\n",
            "10. repr_text.default(obj)\n",
            "11. paste(capture.output(print(obj)), collapse = \"\\n\")\n",
            "12. capture.output(print(obj))\n",
            "13. withVisible(...elt(i))\n",
            "14. print(obj)\n",
            "15. print.ggplot(obj)\n",
            "16. ggplot_build(x)\n",
            "17. ggplot_build.ggplot(x)\n",
            "18. by_layer(function(l, d) l$compute_aesthetics(d, plot), layers, \n",
            "  .     data, \"computing aesthetics\")\n",
            "19. try_fetch(for (i in seq_along(data)) {\n",
            "  .     out[[i]] <- f(l = layers[[i]], d = data[[i]])\n",
            "  . }, error = function(cnd) {\n",
            "  .     cli::cli_abort(c(\"Problem while {step}.\", i = \"Error occurred in the {ordinal(i)} layer.\"), \n",
            "  .         call = layers[[i]]$constructor, parent = cnd)\n",
            "  . })\n",
            "20. tryCatch(withCallingHandlers(expr, condition = function(cnd) {\n",
            "  .     {\n",
            "  .         .__handler_frame__. <- TRUE\n",
            "  .         .__setup_frame__. <- frame\n",
            "  .         if (inherits(cnd, \"message\")) {\n",
            "  .             except <- c(\"warning\", \"error\")\n",
            "  .         }\n",
            "  .         else if (inherits(cnd, \"warning\")) {\n",
            "  .             except <- \"error\"\n",
            "  .         }\n",
            "  .         else {\n",
            "  .             except <- \"\"\n",
            "  .         }\n",
            "  .     }\n",
            "  .     while (!is_null(cnd)) {\n",
            "  .         if (inherits(cnd, \"error\")) {\n",
            "  .             out <- handlers[[1L]](cnd)\n",
            "  .             if (!inherits(out, \"rlang_zap\")) \n",
            "  .                 throw(out)\n",
            "  .         }\n",
            "  .         inherit <- .subset2(.subset2(cnd, \"rlang\"), \"inherit\")\n",
            "  .         if (is_false(inherit)) {\n",
            "  .             return()\n",
            "  .         }\n",
            "  .         cnd <- .subset2(cnd, \"parent\")\n",
            "  .     }\n",
            "  . }), stackOverflowError = handlers[[1L]])\n",
            "21. tryCatchList(expr, classes, parentenv, handlers)\n",
            "22. tryCatchOne(expr, names, parentenv, handlers[[1L]])\n",
            "23. doTryCatch(return(expr), name, parentenv, handler)\n",
            "24. withCallingHandlers(expr, condition = function(cnd) {\n",
            "  .     {\n",
            "  .         .__handler_frame__. <- TRUE\n",
            "  .         .__setup_frame__. <- frame\n",
            "  .         if (inherits(cnd, \"message\")) {\n",
            "  .             except <- c(\"warning\", \"error\")\n",
            "  .         }\n",
            "  .         else if (inherits(cnd, \"warning\")) {\n",
            "  .             except <- \"error\"\n",
            "  .         }\n",
            "  .         else {\n",
            "  .             except <- \"\"\n",
            "  .         }\n",
            "  .     }\n",
            "  .     while (!is_null(cnd)) {\n",
            "  .         if (inherits(cnd, \"error\")) {\n",
            "  .             out <- handlers[[1L]](cnd)\n",
            "  .             if (!inherits(out, \"rlang_zap\")) \n",
            "  .                 throw(out)\n",
            "  .         }\n",
            "  .         inherit <- .subset2(.subset2(cnd, \"rlang\"), \"inherit\")\n",
            "  .         if (is_false(inherit)) {\n",
            "  .             return()\n",
            "  .         }\n",
            "  .         cnd <- .subset2(cnd, \"parent\")\n",
            "  .     }\n",
            "  . })\n",
            "25. f(l = layers[[i]], d = data[[i]])\n",
            "26. l$compute_aesthetics(d, plot)\n",
            "27. compute_aesthetics(..., self = self)\n",
            "28. lapply(aesthetics, eval_tidy, data = data, env = env)\n",
            "29. FUN(X[[i]], ...)\n",
            "30. .handleSimpleError(function (cnd) \n",
            "  . {\n",
            "  .     {\n",
            "  .         .__handler_frame__. <- TRUE\n",
            "  .         .__setup_frame__. <- frame\n",
            "  .         if (inherits(cnd, \"message\")) {\n",
            "  .             except <- c(\"warning\", \"error\")\n",
            "  .         }\n",
            "  .         else if (inherits(cnd, \"warning\")) {\n",
            "  .             except <- \"error\"\n",
            "  .         }\n",
            "  .         else {\n",
            "  .             except <- \"\"\n",
            "  .         }\n",
            "  .     }\n",
            "  .     while (!is_null(cnd)) {\n",
            "  .         if (inherits(cnd, \"error\")) {\n",
            "  .             out <- handlers[[1L]](cnd)\n",
            "  .             if (!inherits(out, \"rlang_zap\")) \n",
            "  .                 throw(out)\n",
            "  .         }\n",
            "  .         inherit <- .subset2(.subset2(cnd, \"rlang\"), \"inherit\")\n",
            "  .         if (is_false(inherit)) {\n",
            "  .             return()\n",
            "  .         }\n",
            "  .         cnd <- .subset2(cnd, \"parent\")\n",
            "  .     }\n",
            "  . }, \"object 'col_status' not found\", base::quote(NULL))\n",
            "31. h(simpleError(msg, call))\n",
            "32. handlers[[1L]](cnd)\n",
            "33. cli::cli_abort(c(\"Problem while {step}.\", i = \"Error occurred in the {ordinal(i)} layer.\"), \n",
            "  .     call = layers[[i]]$constructor, parent = cnd)\n",
            "34. rlang::abort(message, ..., call = call, use_cli_format = TRUE, \n",
            "  .     .frame = .frame)\n",
            "35. signal_abort(cnd, .file)\n"
          ]
        }
      ]
    },
    {
      "cell_type": "code",
      "source": [
        "mymodel <-glm(cancer_status~radius, data = mydata, family = binomial)\n",
        "summary(mymodel)"
      ],
      "metadata": {
        "id": "E3fulOZ-JS6G",
        "outputId": "5cdc32b4-440e-410c-9749-bdb2f880fb98",
        "colab": {
          "base_uri": "https://localhost:8080/",
          "height": 338
        }
      },
      "execution_count": 6,
      "outputs": [
        {
          "output_type": "display_data",
          "data": {
            "text/plain": [
              "\n",
              "Call:\n",
              "glm(formula = cancer_status ~ radius, family = binomial, data = mydata)\n",
              "\n",
              "Coefficients:\n",
              "             Estimate Std. Error z value Pr(>|z|)    \n",
              "(Intercept) -15.24587    1.32463  -11.51   <2e-16 ***\n",
              "radius        1.03359    0.09311   11.10   <2e-16 ***\n",
              "---\n",
              "Signif. codes:  0 ‘***’ 0.001 ‘**’ 0.01 ‘*’ 0.05 ‘.’ 0.1 ‘ ’ 1\n",
              "\n",
              "(Dispersion parameter for binomial family taken to be 1)\n",
              "\n",
              "    Null deviance: 751.44  on 568  degrees of freedom\n",
              "Residual deviance: 330.01  on 567  degrees of freedom\n",
              "AIC: 334.01\n",
              "\n",
              "Number of Fisher Scoring iterations: 6\n"
            ]
          },
          "metadata": {}
        }
      ]
    },
    {
      "cell_type": "markdown",
      "source": [
        "Fitted curve:\n",
        "\n",
        "$\\hat p = \\frac{e^{-15.2+1.03radius}}{1+e^{-15.2+1.03radius}}$\n",
        "\n",
        "where $\\hat p$ is the predicted probability from this model\n",
        "\n"
      ],
      "metadata": {
        "id": "zmvnyj6yJ_Cz"
      }
    },
    {
      "cell_type": "markdown",
      "source": [
        "How to interpret the \"slope\"?\n",
        "\n",
        "- First, acknowledge the sign if the \"slope\" parameter. In this case, the positive sign of the \"slope\" indicates that the probability increases as we move from small to large radius values/\n",
        "\n",
        "\n",
        "- In order to think about rate of change in probability we need to make some judgements on the x values we use.\n"
      ],
      "metadata": {
        "id": "g8zvRdT8N2Wb"
      }
    },
    {
      "cell_type": "code",
      "source": [
        "mynewdata <- data.frame(radius = c(14,15,20,21))\n",
        "\n",
        "mypredictions <- predict(mymodel, newdata = mynewdata, type = 'response')\n",
        "\n",
        "mypredictions"
      ],
      "metadata": {
        "id": "zILS0hXTO9QN",
        "outputId": "c8ecac7e-bb70-45b6-f1ce-2c5a3e83091b",
        "colab": {
          "base_uri": "https://localhost:8080/",
          "height": 34
        }
      },
      "execution_count": 9,
      "outputs": [
        {
          "output_type": "display_data",
          "data": {
            "text/html": [
              "<style>\n",
              ".dl-inline {width: auto; margin:0; padding: 0}\n",
              ".dl-inline>dt, .dl-inline>dd {float: none; width: auto; display: inline-block}\n",
              ".dl-inline>dt::after {content: \":\\0020\"; padding-right: .5ex}\n",
              ".dl-inline>dt:not(:first-of-type) {padding-left: .5ex}\n",
              "</style><dl class=dl-inline><dt>1</dt><dd>-0.775627272625293</dd><dt>2</dt><dd>0.257961543356767</dd><dt>3</dt><dd>5.42590562326707</dd><dt>4</dt><dd>6.45949443924913</dd></dl>\n"
            ],
            "text/markdown": "1\n:   -0.7756272726252932\n:   0.2579615433567673\n:   5.425905623267074\n:   6.45949443924913\n\n",
            "text/latex": "\\begin{description*}\n\\item[1] -0.775627272625293\n\\item[2] 0.257961543356767\n\\item[3] 5.42590562326707\n\\item[4] 6.45949443924913\n\\end{description*}\n",
            "text/plain": [
              "         1          2          3          4 \n",
              "-0.7756273  0.2579615  5.4259056  6.4594944 "
            ]
          },
          "metadata": {}
        }
      ]
    },
    {
      "cell_type": "code",
      "source": [
        "mydata %>%\n",
        "  summarise(mean(radius), sd(radius))"
      ],
      "metadata": {
        "id": "obQJorPUQmKH",
        "outputId": "a2454aa0-e0fd-4028-8308-21efef9eac0f",
        "colab": {
          "base_uri": "https://localhost:8080/",
          "height": 129
        }
      },
      "execution_count": 11,
      "outputs": [
        {
          "output_type": "display_data",
          "data": {
            "text/html": [
              "<table class=\"dataframe\">\n",
              "<caption>A data.frame: 1 × 2</caption>\n",
              "<thead>\n",
              "\t<tr><th scope=col>mean(radius)</th><th scope=col>sd(radius)</th></tr>\n",
              "\t<tr><th scope=col>&lt;dbl&gt;</th><th scope=col>&lt;dbl&gt;</th></tr>\n",
              "</thead>\n",
              "<tbody>\n",
              "\t<tr><td>14.12729</td><td>3.524049</td></tr>\n",
              "</tbody>\n",
              "</table>\n"
            ],
            "text/markdown": "\nA data.frame: 1 × 2\n\n| mean(radius) &lt;dbl&gt; | sd(radius) &lt;dbl&gt; |\n|---|---|\n| 14.12729 | 3.524049 |\n\n",
            "text/latex": "A data.frame: 1 × 2\n\\begin{tabular}{ll}\n mean(radius) & sd(radius)\\\\\n <dbl> & <dbl>\\\\\n\\hline\n\t 14.12729 & 3.524049\\\\\n\\end{tabular}\n",
            "text/plain": [
              "  mean(radius) sd(radius)\n",
              "1 14.12729     3.524049  "
            ]
          },
          "metadata": {}
        }
      ]
    },
    {
      "cell_type": "markdown",
      "source": [
        "Unfortunately, we cannot have a single statement about the \"slope\" because it is not constant( or it varies)."
      ],
      "metadata": {
        "id": "YVpOLGlpRR-Q"
      }
    }
  ]
}